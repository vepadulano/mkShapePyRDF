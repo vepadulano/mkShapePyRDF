{
 "cells": [
  {
   "cell_type": "code",
   "execution_count": 1,
   "metadata": {
    "ExecuteTime": {
     "end_time": "2019-09-20T09:21:02.081930Z",
     "start_time": "2019-09-20T09:20:53.081066Z"
    }
   },
   "outputs": [
    {
     "name": "stdout",
     "output_type": "stream",
     "text": [
      "Welcome to JupyROOT 6.19/01\n"
     ]
    }
   ],
   "source": [
    "import ROOT as R\n",
    "R.ROOT.EnableImplicitMT()\n",
    "\n",
    "import os\n",
    "from pprint import pprint\n",
    "import pandas as pd "
   ]
  },
  {
   "cell_type": "code",
   "execution_count": 2,
   "metadata": {
    "ExecuteTime": {
     "end_time": "2019-09-20T09:21:03.462385Z",
     "start_time": "2019-09-20T09:21:02.654109Z"
    }
   },
   "outputs": [],
   "source": [
    "import PyRDF\n",
    "PyRDF.use(\"spark\")\n",
    "PyRDF.include_headers(\"headers.hh\")\n",
    "\n",
    "#R.gInterpreter.ProcessLine(\".L headers.hh\")"
   ]
  },
  {
   "cell_type": "code",
   "execution_count": 3,
   "metadata": {
    "ExecuteTime": {
     "end_time": "2019-09-20T09:21:05.348464Z",
     "start_time": "2019-09-20T09:21:05.128539Z"
    }
   },
   "outputs": [],
   "source": [
    "import latinos_rdf as lrdf"
   ]
  },
  {
   "cell_type": "code",
   "execution_count": 4,
   "metadata": {
    "ExecuteTime": {
     "end_time": "2019-09-20T09:21:07.510594Z",
     "start_time": "2019-09-20T09:21:07.500726Z"
    }
   },
   "outputs": [],
   "source": [
    "samples = [\"DATA\",\"VBS\", \"DY\", \"singleTop\", \"ttbar\",  \"Wjets\", \"VV\", \"FakeQCD\", \"VVV\", \"VBF-V\"]\n",
    "cut = \"lowen_looseVBS\"\n",
    "output_basedir = \"/eos/user/d/dmapelli/public/latino/Full2017_v1_190920/\""
   ]
  },
  {
   "cell_type": "code",
   "execution_count": 5,
   "metadata": {
    "ExecuteTime": {
     "end_time": "2019-09-20T09:21:08.124214Z",
     "start_time": "2019-09-20T09:21:08.112819Z"
    }
   },
   "outputs": [],
   "source": [
    "columns = [ \"nJets\", \"lep_flavour\", \"lep_pt\",\"lep_eta\", \n",
    "            \"mjj_vbs\", \"mjj_vjet\",\n",
    "            \"vbs_pt_high\", \"vbs_pt_low\", \"vbs_etaprod\",\n",
    "            \"vjet_pt_high\", \"vjet_pt_low\", \n",
    "            \"vbs_eta_high\", \"vbs_eta_low\",\n",
    "            \"vjet_eta_high\", \"vjet_eta_low\",\n",
    "            \"deltaeta_vbs\",  \"deltaphi_vbs\", \n",
    "            \"deltaeta_vjet\", \"deltaphi_vjet\",\n",
    "            \"deltaR_vbs\", \"deltaR_vjet\",\n",
    "            \"deltaR_lep_vbs\", \"deltaR_lep_vjet\",\n",
    "            \"deltaphi_lep_nu\", \"deltaeta_lep_nu\",\n",
    "            \"deltaR_lep_nu\", \n",
    "            \"Rvjets_high\", \"Rvjets_low\",\n",
    "            \"Zvjets_high\", \"Zvjets_low\", \"Zlep\",\n",
    "            \"Asym_vbs\", \"Asym_vjet\", \"Mw_lep\", \"Mtw_lep\", \"w_lep_pt\", \n",
    "            \"Mww\", \"R_ww\", \"R_mw\", \"A_ww\",\n",
    "            \"Centr_vbs\", \"Centr_ww\", \"Lep_proj\", \"Lep_projw\", \"Ht\",\n",
    "            \"recoMET\", \"recoMET_pz\", \n",
    "            \"vbs_index_high\", \"vbs_index_low\", \"vjet_index_high\", \"vjet_index_low\"\n",
    "          ]\n",
    "columns_MC = [\"weight\", \"XSWeight\", \"TriggerEffWeight_1l\", \"btagSF\"] + columns\n",
    "columns_DATA = columns"
   ]
  },
  {
   "cell_type": "code",
   "execution_count": 6,
   "metadata": {
    "ExecuteTime": {
     "end_time": "2019-09-20T10:05:29.284115Z",
     "start_time": "2019-09-20T09:21:09.117643Z"
    }
   },
   "outputs": [
    {
     "name": "stdout",
     "output_type": "stream",
     "text": [
      "lep_flavour abs(Lepton_pdgId[0])\n",
      "events 1\n",
      "nJets Sum(CleanJet_pt >= 30)\n",
      "lep_eta abs(Lepton_eta[0])\n",
      "lep_pt Lepton_pt[0]\n",
      "vbs_index_high VBS_jets_maxmjj_massWZ[0]\n",
      "vbs_index_low VBS_jets_maxmjj_massWZ[1]\n",
      "vjet_index_high V_jets_maxmjj_massWZ[0]\n",
      "vjet_index_low V_jets_maxmjj_massWZ[1]\n",
      "lep_flavour abs(Lepton_pdgId[0])\n",
      "events 1\n",
      "nJets Sum(CleanJet_pt >= 30)\n",
      "lep_eta abs(Lepton_eta[0])\n",
      "lep_pt Lepton_pt[0]\n",
      "vbs_index_high VBS_jets_maxmjj_massWZ[0]\n",
      "vbs_index_low VBS_jets_maxmjj_massWZ[1]\n",
      "vjet_index_high V_jets_maxmjj_massWZ[0]\n",
      "vjet_index_low V_jets_maxmjj_massWZ[1]\n",
      "lep_flavour abs(Lepton_pdgId[0])\n",
      "events 1\n",
      "nJets Sum(CleanJet_pt >= 30)\n",
      "lep_eta abs(Lepton_eta[0])\n",
      "lep_pt Lepton_pt[0]\n",
      "vbs_index_high VBS_jets_maxmjj_massWZ[0]\n",
      "vbs_index_low VBS_jets_maxmjj_massWZ[1]\n",
      "vjet_index_high V_jets_maxmjj_massWZ[0]\n",
      "vjet_index_low V_jets_maxmjj_massWZ[1]\n",
      "lep_flavour abs(Lepton_pdgId[0])\n",
      "events 1\n",
      "nJets Sum(CleanJet_pt >= 30)\n",
      "lep_eta abs(Lepton_eta[0])\n",
      "lep_pt Lepton_pt[0]\n",
      "vbs_index_high VBS_jets_maxmjj_massWZ[0]\n",
      "vbs_index_low VBS_jets_maxmjj_massWZ[1]\n",
      "vjet_index_high V_jets_maxmjj_massWZ[0]\n",
      "vjet_index_low V_jets_maxmjj_massWZ[1]\n",
      "lep_flavour abs(Lepton_pdgId[0])\n",
      "events 1\n",
      "nJets Sum(CleanJet_pt >= 30)\n",
      "lep_eta abs(Lepton_eta[0])\n",
      "lep_pt Lepton_pt[0]\n",
      "vbs_index_high VBS_jets_maxmjj_massWZ[0]\n",
      "vbs_index_low VBS_jets_maxmjj_massWZ[1]\n",
      "vjet_index_high V_jets_maxmjj_massWZ[0]\n",
      "vjet_index_low V_jets_maxmjj_massWZ[1]\n",
      "lep_flavour abs(Lepton_pdgId[0])\n",
      "events 1\n",
      "nJets Sum(CleanJet_pt >= 30)\n",
      "lep_eta abs(Lepton_eta[0])\n",
      "lep_pt Lepton_pt[0]\n",
      "vbs_index_high VBS_jets_maxmjj_massWZ[0]\n",
      "vbs_index_low VBS_jets_maxmjj_massWZ[1]\n",
      "vjet_index_high V_jets_maxmjj_massWZ[0]\n",
      "vjet_index_low V_jets_maxmjj_massWZ[1]\n",
      "lep_flavour abs(Lepton_pdgId[0])\n",
      "events 1\n",
      "nJets Sum(CleanJet_pt >= 30)\n",
      "lep_eta abs(Lepton_eta[0])\n",
      "lep_pt Lepton_pt[0]\n",
      "vbs_index_high VBS_jets_maxmjj_massWZ[0]\n",
      "vbs_index_low VBS_jets_maxmjj_massWZ[1]\n",
      "vjet_index_high V_jets_maxmjj_massWZ[0]\n",
      "vjet_index_low V_jets_maxmjj_massWZ[1]\n",
      "lep_flavour abs(Lepton_pdgId[0])\n",
      "events 1\n",
      "nJets Sum(CleanJet_pt >= 30)\n",
      "lep_eta abs(Lepton_eta[0])\n",
      "lep_pt Lepton_pt[0]\n",
      "vbs_index_high VBS_jets_maxmjj_massWZ[0]\n",
      "vbs_index_low VBS_jets_maxmjj_massWZ[1]\n",
      "vjet_index_high V_jets_maxmjj_massWZ[0]\n",
      "vjet_index_low V_jets_maxmjj_massWZ[1]\n",
      "lep_flavour abs(Lepton_pdgId[0])\n",
      "events 1\n",
      "nJets Sum(CleanJet_pt >= 30)\n",
      "lep_eta abs(Lepton_eta[0])\n",
      "lep_pt Lepton_pt[0]\n",
      "vbs_index_high VBS_jets_maxmjj_massWZ[0]\n",
      "vbs_index_low VBS_jets_maxmjj_massWZ[1]\n",
      "vjet_index_high V_jets_maxmjj_massWZ[0]\n",
      "vjet_index_low V_jets_maxmjj_massWZ[1]\n",
      "lep_flavour abs(Lepton_pdgId[0])\n",
      "events 1\n",
      "nJets Sum(CleanJet_pt >= 30)\n",
      "lep_eta abs(Lepton_eta[0])\n",
      "lep_pt Lepton_pt[0]\n",
      "vbs_index_high VBS_jets_maxmjj_massWZ[0]\n",
      "vbs_index_low VBS_jets_maxmjj_massWZ[1]\n",
      "vjet_index_high V_jets_maxmjj_massWZ[0]\n",
      "vjet_index_low V_jets_maxmjj_massWZ[1]\n",
      "lep_flavour abs(Lepton_pdgId[0])\n",
      "events 1\n",
      "nJets Sum(CleanJet_pt >= 30)\n",
      "lep_eta abs(Lepton_eta[0])\n",
      "lep_pt Lepton_pt[0]\n",
      "vbs_index_high VBS_jets_maxmjj_massWZ[0]\n",
      "vbs_index_low VBS_jets_maxmjj_massWZ[1]\n",
      "vjet_index_high V_jets_maxmjj_massWZ[0]\n",
      "vjet_index_low V_jets_maxmjj_massWZ[1]\n",
      "lep_flavour abs(Lepton_pdgId[0])\n",
      "events 1\n",
      "nJets Sum(CleanJet_pt >= 30)\n",
      "lep_eta abs(Lepton_eta[0])\n",
      "lep_pt Lepton_pt[0]\n",
      "vbs_index_high VBS_jets_maxmjj_massWZ[0]\n",
      "vbs_index_low VBS_jets_maxmjj_massWZ[1]\n",
      "vjet_index_high V_jets_maxmjj_massWZ[0]\n",
      "vjet_index_low V_jets_maxmjj_massWZ[1]\n",
      "lep_flavour abs(Lepton_pdgId[0])\n",
      "events 1\n",
      "nJets Sum(CleanJet_pt >= 30)\n",
      "lep_eta abs(Lepton_eta[0])\n",
      "lep_pt Lepton_pt[0]\n",
      "vbs_index_high VBS_jets_maxmjj_massWZ[0]\n",
      "vbs_index_low VBS_jets_maxmjj_massWZ[1]\n",
      "vjet_index_high V_jets_maxmjj_massWZ[0]\n",
      "vjet_index_low V_jets_maxmjj_massWZ[1]\n",
      "lep_flavour abs(Lepton_pdgId[0])\n",
      "events 1\n",
      "nJets Sum(CleanJet_pt >= 30)\n",
      "lep_eta abs(Lepton_eta[0])\n",
      "lep_pt Lepton_pt[0]\n",
      "vbs_index_high VBS_jets_maxmjj_massWZ[0]\n",
      "vbs_index_low VBS_jets_maxmjj_massWZ[1]\n",
      "vjet_index_high V_jets_maxmjj_massWZ[0]\n",
      "vjet_index_low V_jets_maxmjj_massWZ[1]\n",
      "lep_flavour abs(Lepton_pdgId[0])\n",
      "events 1\n",
      "nJets Sum(CleanJet_pt >= 30)\n",
      "lep_eta abs(Lepton_eta[0])\n",
      "lep_pt Lepton_pt[0]\n",
      "vbs_index_high VBS_jets_maxmjj_massWZ[0]\n",
      "vbs_index_low VBS_jets_maxmjj_massWZ[1]\n",
      "vjet_index_high V_jets_maxmjj_massWZ[0]\n",
      "vjet_index_low V_jets_maxmjj_massWZ[1]\n",
      "lep_flavour abs(Lepton_pdgId[0])\n",
      "events 1\n",
      "nJets Sum(CleanJet_pt >= 30)\n",
      "lep_eta abs(Lepton_eta[0])\n",
      "lep_pt Lepton_pt[0]\n",
      "vbs_index_high VBS_jets_maxmjj_massWZ[0]\n",
      "vbs_index_low VBS_jets_maxmjj_massWZ[1]\n",
      "vjet_index_high V_jets_maxmjj_massWZ[0]\n",
      "vjet_index_low V_jets_maxmjj_massWZ[1]\n",
      "lep_flavour abs(Lepton_pdgId[0])\n",
      "events 1\n",
      "nJets Sum(CleanJet_pt >= 30)\n",
      "lep_eta abs(Lepton_eta[0])\n",
      "lep_pt Lepton_pt[0]\n",
      "vbs_index_high VBS_jets_maxmjj_massWZ[0]\n",
      "vbs_index_low VBS_jets_maxmjj_massWZ[1]\n",
      "vjet_index_high V_jets_maxmjj_massWZ[0]\n",
      "vjet_index_low V_jets_maxmjj_massWZ[1]\n",
      "lep_flavour abs(Lepton_pdgId[0])\n",
      "events 1\n",
      "nJets Sum(CleanJet_pt >= 30)\n",
      "lep_eta abs(Lepton_eta[0])\n",
      "lep_pt Lepton_pt[0]\n",
      "vbs_index_high VBS_jets_maxmjj_massWZ[0]\n",
      "vbs_index_low VBS_jets_maxmjj_massWZ[1]\n",
      "vjet_index_high V_jets_maxmjj_massWZ[0]\n",
      "vjet_index_low V_jets_maxmjj_massWZ[1]\n",
      "lep_flavour abs(Lepton_pdgId[0])\n",
      "events 1\n",
      "nJets Sum(CleanJet_pt >= 30)\n",
      "lep_eta abs(Lepton_eta[0])\n",
      "lep_pt Lepton_pt[0]\n",
      "vbs_index_high VBS_jets_maxmjj_massWZ[0]\n",
      "vbs_index_low VBS_jets_maxmjj_massWZ[1]\n",
      "vjet_index_high V_jets_maxmjj_massWZ[0]\n",
      "vjet_index_low V_jets_maxmjj_massWZ[1]\n",
      "lep_flavour abs(Lepton_pdgId[0])\n",
      "events 1\n",
      "nJets Sum(CleanJet_pt >= 30)\n",
      "lep_eta abs(Lepton_eta[0])\n",
      "lep_pt Lepton_pt[0]\n",
      "vbs_index_high VBS_jets_maxmjj_massWZ[0]\n",
      "vbs_index_low VBS_jets_maxmjj_massWZ[1]\n",
      "vjet_index_high V_jets_maxmjj_massWZ[0]\n",
      "vjet_index_low V_jets_maxmjj_massWZ[1]\n",
      "lep_flavour abs(Lepton_pdgId[0])\n",
      "events 1\n",
      "nJets Sum(CleanJet_pt >= 30)\n",
      "lep_eta abs(Lepton_eta[0])\n",
      "lep_pt Lepton_pt[0]\n",
      "vbs_index_high VBS_jets_maxmjj_massWZ[0]\n",
      "vbs_index_low VBS_jets_maxmjj_massWZ[1]\n",
      "vjet_index_high V_jets_maxmjj_massWZ[0]\n",
      "vjet_index_low V_jets_maxmjj_massWZ[1]\n",
      "lep_flavour abs(Lepton_pdgId[0])\n",
      "events 1\n",
      "nJets Sum(CleanJet_pt >= 30)\n",
      "lep_eta abs(Lepton_eta[0])\n",
      "lep_pt Lepton_pt[0]\n",
      "vbs_index_high VBS_jets_maxmjj_massWZ[0]\n",
      "vbs_index_low VBS_jets_maxmjj_massWZ[1]\n",
      "vjet_index_high V_jets_maxmjj_massWZ[0]\n",
      "vjet_index_low V_jets_maxmjj_massWZ[1]\n",
      "lep_flavour abs(Lepton_pdgId[0])\n",
      "events 1\n",
      "nJets Sum(CleanJet_pt >= 30)\n",
      "lep_eta abs(Lepton_eta[0])\n",
      "lep_pt Lepton_pt[0]\n",
      "vbs_index_high VBS_jets_maxmjj_massWZ[0]\n",
      "vbs_index_low VBS_jets_maxmjj_massWZ[1]\n",
      "vjet_index_high V_jets_maxmjj_massWZ[0]\n",
      "vjet_index_low V_jets_maxmjj_massWZ[1]\n"
     ]
    },
    {
     "name": "stderr",
     "output_type": "stream",
     "text": [
      "Warning in <TClass::Init>: no dictionary for class edm::Hash<1> is available\n",
      "Warning in <TClass::Init>: no dictionary for class edm::ParameterSetBlob is available\n",
      "Warning in <TClass::Init>: no dictionary for class edm::ProcessHistory is available\n",
      "Warning in <TClass::Init>: no dictionary for class edm::ProcessConfiguration is available\n",
      "Warning in <TClass::Init>: no dictionary for class pair<edm::Hash<1>,edm::ParameterSetBlob> is available\n"
     ]
    }
   ],
   "source": [
    "for sample in samples:\n",
    "    trees = lrdf.build_dataframe(\"lowenergy\", sample, R, \"root\")\n",
    "    #trees = lrdf.build_dataframe(\"mkShapePyRDF/lowenergy\",  R, \"root\")\n",
    "\n",
    "    dfs = []\n",
    "    for tree in trees:\n",
    "        print(\">>>> Sample: \", sample)\n",
    "        print(tree)\n",
    "        # Choose the right output columns\n",
    "        if sample == \"DATA\": outputcols = columns_DATA\n",
    "        else: outputcols = columns_MC\n",
    "\n",
    "        df = pd.DataFrame(tree[cut].rdf_node.AsNumpy(columns=outputcols))\n",
    "        dfs.append(df)\n",
    "\n",
    "    all_df = dfs[0]\n",
    "    for df in dfs[1:]:\n",
    "        all_df = all_df.append(df)  \n",
    "\n",
    "    all_df = all_df[ ( (all_df.lep_flavour == 11) & (all_df.lep_pt > 40))  | (all_df.lep_flavour == 13)]\n",
    "\n",
    "    all_df.to_pickle(output_basedir + sample + \".pkl\")"
   ]
  },
  {
   "cell_type": "code",
   "execution_count": null,
   "metadata": {},
   "outputs": [],
   "source": []
  }
 ],
 "metadata": {
  "kernelspec": {
   "display_name": "Python 3",
   "language": "python",
   "name": "python3"
  },
  "language_info": {
   "codemirror_mode": {
    "name": "ipython",
    "version": 3
   },
   "file_extension": ".py",
   "mimetype": "text/x-python",
   "name": "python",
   "nbconvert_exporter": "python",
   "pygments_lexer": "ipython3",
   "version": "3.6.5"
  },
  "sparkconnect": {
   "bundled_options": [
    "MemoryIntensive",
    "SparkMetrics",
    "EnableS3",
    "ComputeIntensive"
   ],
   "list_of_options": [
    {
     "name": "spark.app.name",
     "value": "NanoAOD_PyRDF"
    },
    {
     "name": "spark.dynamicAllocation.enabled",
     "value": "False"
    },
    {
     "name": "spark.executor.instances",
     "value": "100"
    }
   ]
  },
  "toc": {
   "base_numbering": 1,
   "nav_menu": {},
   "number_sections": true,
   "sideBar": true,
   "skip_h1_title": false,
   "title_cell": "Table of Contents",
   "title_sidebar": "Contents",
   "toc_cell": false,
   "toc_position": {},
   "toc_section_display": true,
   "toc_window_display": false
  },
  "varInspector": {
   "cols": {
    "lenName": 16,
    "lenType": 16,
    "lenVar": 40
   },
   "kernels_config": {
    "python": {
     "delete_cmd_postfix": "",
     "delete_cmd_prefix": "del ",
     "library": "var_list.py",
     "varRefreshCmd": "print(var_dic_list())"
    },
    "r": {
     "delete_cmd_postfix": ") ",
     "delete_cmd_prefix": "rm(",
     "library": "var_list.r",
     "varRefreshCmd": "cat(var_dic_list()) "
    }
   },
   "types_to_exclude": [
    "module",
    "function",
    "builtin_function_or_method",
    "instance",
    "_Feature"
   ],
   "window_display": false
  }
 },
 "nbformat": 4,
 "nbformat_minor": 2
}
