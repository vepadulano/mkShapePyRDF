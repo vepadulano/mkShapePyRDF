{
 "cells": [
  {
   "cell_type": "code",
   "execution_count": 1,
   "metadata": {
    "ExecuteTime": {
     "end_time": "2019-09-20T09:02:18.364118Z",
     "start_time": "2019-09-20T09:02:11.955255Z"
    }
   },
   "outputs": [
    {
     "name": "stdout",
     "output_type": "stream",
     "text": [
      "Welcome to JupyROOT 6.19/01\n"
     ]
    }
   ],
   "source": [
    "import ROOT as R\n",
    "R.ROOT.EnableImplicitMT()\n",
    "\n",
    "import os\n",
    "from pprint import pprint\n",
    "import pandas as pd "
   ]
  },
  {
   "cell_type": "code",
   "execution_count": 2,
   "metadata": {
    "ExecuteTime": {
     "end_time": "2019-09-20T09:01:06.961943Z",
     "start_time": "2019-09-20T09:01:06.855434Z"
    }
   },
   "outputs": [
    {
     "data": {
      "text/plain": [
       "0"
      ]
     },
     "execution_count": 2,
     "metadata": {},
     "output_type": "execute_result"
    }
   ],
   "source": [
    "R.gInterpreter.ProcessLine(\".L headers.hh\")"
   ]
  },
  {
   "cell_type": "code",
   "execution_count": 3,
   "metadata": {
    "ExecuteTime": {
     "end_time": "2019-09-20T08:36:14.682901Z",
     "start_time": "2019-09-20T08:36:14.064474Z"
    }
   },
   "outputs": [],
   "source": [
    "import PyRDF\n",
    "PyRDF.use(\"spark\")\n",
    "PyRDF.include_headers(\"headers.hh\")\n",
    "\n",
    "#"
   ]
  },
  {
   "cell_type": "code",
   "execution_count": 3,
   "metadata": {
    "ExecuteTime": {
     "end_time": "2019-09-20T09:01:12.387087Z",
     "start_time": "2019-09-20T09:01:11.365799Z"
    }
   },
   "outputs": [],
   "source": [
    "import latinos_rdf as lrdf"
   ]
  },
  {
   "cell_type": "code",
   "execution_count": 4,
   "metadata": {
    "ExecuteTime": {
     "end_time": "2019-09-20T09:01:12.818932Z",
     "start_time": "2019-09-20T09:01:12.811330Z"
    }
   },
   "outputs": [],
   "source": [
    "#samples = [ \"VBS\", \"DY\", \"singleTop\", \"ttbar\",  \"Wjets\", \"VV\", \"FakeQCD\", \"VVV\", \"VBF-V\"]\n",
    "samples  =[\"DATA\"]\n",
    "cut = \"lowen_looseVBS\"\n",
    "output_basedir = \"/eos/user/d/dmapelli/public/latino/Full2017_v1_190920/\""
   ]
  },
  {
   "cell_type": "code",
   "execution_count": 5,
   "metadata": {
    "ExecuteTime": {
     "end_time": "2019-09-20T09:01:13.561073Z",
     "start_time": "2019-09-20T09:01:13.543147Z"
    }
   },
   "outputs": [],
   "source": [
    "columns = [ \"nJets\", \"lep_flavour\", \"lep_pt\",\"lep_eta\", \n",
    "            \"mjj_vbs\", \"mjj_vjet\",\n",
    "            \"vbs_pt_high\", \"vbs_pt_low\", \"vbs_etaprod\",\n",
    "            \"vjet_pt_high\", \"vjet_pt_low\", \n",
    "            \"vbs_eta_high\", \"vbs_eta_low\",\n",
    "            \"vjet_eta_high\", \"vjet_eta_low\",\n",
    "            \"deltaeta_vbs\",  \"deltaphi_vbs\", \n",
    "            \"deltaeta_vjet\", \"deltaphi_vjet\",\n",
    "            \"deltaR_vbs\", \"deltaR_vjet\",\n",
    "            \"deltaR_lep_vbs\", \"deltaR_lep_vjet\",\n",
    "            \"deltaphi_lep_nu\", \"deltaeta_lep_nu\",\n",
    "            \"deltaR_lep_nu\", \n",
    "            \"Rvjets_high\", \"Rvjets_low\",\n",
    "            \"Zvjets_high\", \"Zvjets_low\", \"Zlep\",\n",
    "            \"Asym_vbs\", \"Asym_vjet\", \"Mw_lep\", \"Mtw_lep\", \"w_lep_pt\", \n",
    "            \"Mww\", \"R_ww\", \"R_mw\", \"A_ww\",\n",
    "            \"Centr_vbs\", \"Centr_ww\", \"Lep_proj\", \"Lep_projw\", \"Ht\",\n",
    "            \"recoMET\", \"recoMET_pz\", \n",
    "            \"vbs_index_high\", \"vbs_index_low\", \"vjet_index_high\", \"vjet_index_low\"\n",
    "          ]\n",
    "columns_MC = [\"weight\", \"XSWeight\", \"TriggerEffWeight_1l\", \"btagSF\"] + columns\n",
    "columns_DATA = columns"
   ]
  },
  {
   "cell_type": "code",
   "execution_count": 6,
   "metadata": {
    "ExecuteTime": {
     "end_time": "2019-09-20T09:01:14.973404Z",
     "start_time": "2019-09-20T09:01:14.961737Z"
    }
   },
   "outputs": [],
   "source": [
    "def sample_to_numpy(sample, basedir):\n",
    "    trees = lrdf.build_dataframe(\"lowenergy\", sample, R, \"root\")\n",
    "    #trees = lrdf.build_dataframe(\"mkShapePyRDF/lowenergy\",  R, \"root\")\n",
    "\n",
    "    dfs = []\n",
    "    for tree in trees:\n",
    "        print(tree.aliases)\n",
    "        # Choose the right output columns\n",
    "        if sample == \"DATA\": outputcols = columns_DATA\n",
    "        else: outputcols = columns_MC\n",
    "            \n",
    "        df = pd.DataFrame(tree[cut].rdf_node.AsNumpy(columns=outputcols))\n",
    "        dfs.append(df)\n",
    "\n",
    "    all_df = dfs[0]\n",
    "    for df in dfs[1:]:\n",
    "        all_df = all_df.append(df)  \n",
    "\n",
    "    all_df = all_df[ ( (all_df.lep_flavour == 11) & (all_df.lep_pt > 40))  | (all_df.lep_flavour == 13)]\n",
    "\n",
    "    all_df.to_pickle(basedir + sample + \".pkl\")"
   ]
  },
  {
   "cell_type": "code",
   "execution_count": 7,
   "metadata": {
    "ExecuteTime": {
     "end_time": "2019-09-20T09:01:17.275979Z",
     "start_time": "2019-09-20T09:01:16.594628Z"
    },
    "scrolled": false
   },
   "outputs": [
    {
     "ename": "KeyError",
     "evalue": "'samples'",
     "output_type": "error",
     "traceback": [
      "\u001b[0;31m---------------------------------------------------------------------------\u001b[0m",
      "\u001b[0;31mKeyError\u001b[0m                                  Traceback (most recent call last)",
      "\u001b[0;32m<ipython-input-7-910c801fd488>\u001b[0m in \u001b[0;36m<module>\u001b[0;34m\u001b[0m\n\u001b[1;32m      1\u001b[0m \u001b[0;32mfor\u001b[0m \u001b[0msample\u001b[0m \u001b[0;32min\u001b[0m \u001b[0msamples\u001b[0m\u001b[0;34m:\u001b[0m\u001b[0;34m\u001b[0m\u001b[0m\n\u001b[0;32m----> 2\u001b[0;31m     \u001b[0msample_to_numpy\u001b[0m\u001b[0;34m(\u001b[0m\u001b[0msample\u001b[0m\u001b[0;34m,\u001b[0m \u001b[0moutput_basedir\u001b[0m\u001b[0;34m)\u001b[0m\u001b[0;34m\u001b[0m\u001b[0m\n\u001b[0m",
      "\u001b[0;32m<ipython-input-6-642e2bb19a18>\u001b[0m in \u001b[0;36msample_to_numpy\u001b[0;34m(sample, basedir)\u001b[0m\n\u001b[1;32m      1\u001b[0m \u001b[0;32mdef\u001b[0m \u001b[0msample_to_numpy\u001b[0m\u001b[0;34m(\u001b[0m\u001b[0msample\u001b[0m\u001b[0;34m,\u001b[0m \u001b[0mbasedir\u001b[0m\u001b[0;34m)\u001b[0m\u001b[0;34m:\u001b[0m\u001b[0;34m\u001b[0m\u001b[0m\n\u001b[0;32m----> 2\u001b[0;31m     \u001b[0mtrees\u001b[0m \u001b[0;34m=\u001b[0m \u001b[0mlrdf\u001b[0m\u001b[0;34m.\u001b[0m\u001b[0mbuild_dataframe\u001b[0m\u001b[0;34m(\u001b[0m\u001b[0;34m\"lowenergy\"\u001b[0m\u001b[0;34m,\u001b[0m \u001b[0msample\u001b[0m\u001b[0;34m,\u001b[0m \u001b[0mR\u001b[0m\u001b[0;34m,\u001b[0m \u001b[0;34m\"root\"\u001b[0m\u001b[0;34m)\u001b[0m\u001b[0;34m\u001b[0m\u001b[0m\n\u001b[0m\u001b[1;32m      3\u001b[0m     \u001b[0;31m#trees = lrdf.build_dataframe(\"mkShapePyRDF/lowenergy\",  R, \"root\")\u001b[0m\u001b[0;34m\u001b[0m\u001b[0;34m\u001b[0m\u001b[0m\n\u001b[1;32m      4\u001b[0m \u001b[0;34m\u001b[0m\u001b[0m\n\u001b[1;32m      5\u001b[0m     \u001b[0mdfs\u001b[0m \u001b[0;34m=\u001b[0m \u001b[0;34m[\u001b[0m\u001b[0;34m]\u001b[0m\u001b[0;34m\u001b[0m\u001b[0m\n",
      "\u001b[0;32m~/Code/Latinos/mkShapePyRDF/latinos_rdf.py\u001b[0m in \u001b[0;36mbuild_dataframe\u001b[0;34m(conf_dir, sample, rdf_class, rdf_type)\u001b[0m\n\u001b[1;32m    184\u001b[0m \u001b[0;34m\u001b[0m\u001b[0m\n\u001b[1;32m    185\u001b[0m     \u001b[0;31m# Filter out aliases not for this samples\u001b[0m\u001b[0;34m\u001b[0m\u001b[0;34m\u001b[0m\u001b[0m\n\u001b[0;32m--> 186\u001b[0;31m     \u001b[0maliases\u001b[0m \u001b[0;34m=\u001b[0m \u001b[0;34m{\u001b[0m \u001b[0mkey\u001b[0m\u001b[0;34m:\u001b[0m \u001b[0mobj\u001b[0m \u001b[0;32mfor\u001b[0m \u001b[0mkey\u001b[0m\u001b[0;34m,\u001b[0m \u001b[0mobj\u001b[0m \u001b[0;32min\u001b[0m \u001b[0maliases\u001b[0m\u001b[0;34m.\u001b[0m\u001b[0mitems\u001b[0m\u001b[0;34m(\u001b[0m\u001b[0;34m)\u001b[0m \u001b[0;32mif\u001b[0m \u001b[0msample\u001b[0m \u001b[0;32min\u001b[0m \u001b[0mobj\u001b[0m\u001b[0;34m[\u001b[0m\u001b[0;34m\"samples\"\u001b[0m\u001b[0;34m]\u001b[0m\u001b[0;34m}\u001b[0m\u001b[0;34m\u001b[0m\u001b[0m\n\u001b[0m\u001b[1;32m    187\u001b[0m     \u001b[0mtree\u001b[0m\u001b[0;34m.\u001b[0m\u001b[0mdefine_aliases\u001b[0m\u001b[0;34m(\u001b[0m\u001b[0;34m\"supercut\"\u001b[0m\u001b[0;34m,\u001b[0m \u001b[0maliases\u001b[0m\u001b[0;34m)\u001b[0m\u001b[0;34m\u001b[0m\u001b[0m\n\u001b[1;32m    188\u001b[0m \u001b[0;34m\u001b[0m\u001b[0m\n",
      "\u001b[0;32m~/Code/Latinos/mkShapePyRDF/latinos_rdf.py\u001b[0m in \u001b[0;36m<dictcomp>\u001b[0;34m(.0)\u001b[0m\n\u001b[1;32m    184\u001b[0m \u001b[0;34m\u001b[0m\u001b[0m\n\u001b[1;32m    185\u001b[0m     \u001b[0;31m# Filter out aliases not for this samples\u001b[0m\u001b[0;34m\u001b[0m\u001b[0;34m\u001b[0m\u001b[0m\n\u001b[0;32m--> 186\u001b[0;31m     \u001b[0maliases\u001b[0m \u001b[0;34m=\u001b[0m \u001b[0;34m{\u001b[0m \u001b[0mkey\u001b[0m\u001b[0;34m:\u001b[0m \u001b[0mobj\u001b[0m \u001b[0;32mfor\u001b[0m \u001b[0mkey\u001b[0m\u001b[0;34m,\u001b[0m \u001b[0mobj\u001b[0m \u001b[0;32min\u001b[0m \u001b[0maliases\u001b[0m\u001b[0;34m.\u001b[0m\u001b[0mitems\u001b[0m\u001b[0;34m(\u001b[0m\u001b[0;34m)\u001b[0m \u001b[0;32mif\u001b[0m \u001b[0msample\u001b[0m \u001b[0;32min\u001b[0m \u001b[0mobj\u001b[0m\u001b[0;34m[\u001b[0m\u001b[0;34m\"samples\"\u001b[0m\u001b[0;34m]\u001b[0m\u001b[0;34m}\u001b[0m\u001b[0;34m\u001b[0m\u001b[0m\n\u001b[0m\u001b[1;32m    187\u001b[0m     \u001b[0mtree\u001b[0m\u001b[0;34m.\u001b[0m\u001b[0mdefine_aliases\u001b[0m\u001b[0;34m(\u001b[0m\u001b[0;34m\"supercut\"\u001b[0m\u001b[0;34m,\u001b[0m \u001b[0maliases\u001b[0m\u001b[0;34m)\u001b[0m\u001b[0;34m\u001b[0m\u001b[0m\n\u001b[1;32m    188\u001b[0m \u001b[0;34m\u001b[0m\u001b[0m\n",
      "\u001b[0;31mKeyError\u001b[0m: 'samples'"
     ]
    }
   ],
   "source": [
    "for sample in samples:\n",
    "    sample_to_numpy(sample, output_basedir)"
   ]
  },
  {
   "cell_type": "code",
   "execution_count": 8,
   "metadata": {
    "ExecuteTime": {
     "end_time": "2019-09-20T08:55:52.098677Z",
     "start_time": "2019-09-20T08:55:52.058756Z"
    }
   },
   "outputs": [
    {
     "ename": "NameError",
     "evalue": "name 'tree' is not defined",
     "output_type": "error",
     "traceback": [
      "\u001b[0;31m---------------------------------------------------------------------------\u001b[0m",
      "\u001b[0;31mNameError\u001b[0m                                 Traceback (most recent call last)",
      "\u001b[0;32m<ipython-input-8-7a1e081e78d4>\u001b[0m in \u001b[0;36m<module>\u001b[0;34m\u001b[0m\n\u001b[0;32m----> 1\u001b[0;31m \u001b[0mtree\u001b[0m\u001b[0;34m\u001b[0m\u001b[0m\n\u001b[0m",
      "\u001b[0;31mNameError\u001b[0m: name 'tree' is not defined"
     ]
    }
   ],
   "source": [
    "tree"
   ]
  },
  {
   "cell_type": "code",
   "execution_count": null,
   "metadata": {},
   "outputs": [],
   "source": []
  }
 ],
 "metadata": {
  "kernelspec": {
   "display_name": "Python 3",
   "language": "python",
   "name": "python3"
  },
  "sparkconnect": {
   "bundled_options": [
    "MemoryIntensive",
    "SparkMetrics",
    "EnableS3",
    "ComputeIntensive"
   ],
   "list_of_options": [
    {
     "name": "spark.app.name",
     "value": "NanoAOD_PyRDF"
    },
    {
     "name": "spark.dynamicAllocation.enabled",
     "value": "False"
    },
    {
     "name": "spark.executor.instances",
     "value": "100"
    }
   ]
  },
  "toc": {
   "base_numbering": 1,
   "nav_menu": {},
   "number_sections": true,
   "sideBar": true,
   "skip_h1_title": false,
   "title_cell": "Table of Contents",
   "title_sidebar": "Contents",
   "toc_cell": false,
   "toc_position": {},
   "toc_section_display": true,
   "toc_window_display": false
  },
  "varInspector": {
   "cols": {
    "lenName": 16,
    "lenType": 16,
    "lenVar": 40
   },
   "kernels_config": {
    "python": {
     "delete_cmd_postfix": "",
     "delete_cmd_prefix": "del ",
     "library": "var_list.py",
     "varRefreshCmd": "print(var_dic_list())"
    },
    "r": {
     "delete_cmd_postfix": ") ",
     "delete_cmd_prefix": "rm(",
     "library": "var_list.r",
     "varRefreshCmd": "cat(var_dic_list()) "
    }
   },
   "types_to_exclude": [
    "module",
    "function",
    "builtin_function_or_method",
    "instance",
    "_Feature"
   ],
   "window_display": false
  }
 },
 "nbformat": 4,
 "nbformat_minor": 2
}
